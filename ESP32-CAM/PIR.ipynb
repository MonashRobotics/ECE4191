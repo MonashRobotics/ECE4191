{
 "cells": [
  {
   "cell_type": "markdown",
   "id": "f43aab12",
   "metadata": {},
   "source": [
    "#### This short tutorial demonstrate how to use a PIR sensor with ESP32-CAM. The ESP32-CAM flash LED shall flash upon motion detected by the PIR sensor. The datasheet of the specific PIR sensor (EKMC2608111K) we offer can be found [here](https://www.farnell.com/datasheets/4379415.pdf?_gl=1*1aysx48*_gcl_au*OTQ4NjM5NTYxLjE3NTEzNDY5ODM.). If you're unsure how to program a ESP32-CAM, check out the page [here](https://lastminuteengineers.com/getting-started-with-esp32-cam/)."
   ]
  },
  {
   "cell_type": "markdown",
   "id": "a1df54e4",
   "metadata": {},
   "source": [
    "## 1. Wiring\n",
    "\n",
    "<img src=\"Figures\\ESP32-CAM-Pinout.jpg\" alt=\"ESP32-CAM Pinout\" width=\"600\"/>\n",
    "\n",
    "<img src=\"Figures\\PIR.png\" alt=\"PIR sensor Pinout\" width=\"400\"/>\n",
    "\n",
    "We use GPIO 13 to read the sensor output (OUT should be ~3.3V), connect:\n",
    "- ESP GPIO 13 <--> PIR OUT\n",
    "- ESP VCC (Outputs 3.3V) <--> PIR Vdd\n",
    "- ESP GND <--> PIR GND <--> Ground (During runtime)\n",
    "- ESP 5V <--> 5V power source (During runtime)\n",
    "\n",
    "Note: If you try to test the sensor with a simple resistor and LED circuit, it probably won't work. The max. output current from the PIR sensor is only ~200 &mu;A (see datasheet), which is not enough to turn on an LED."
   ]
  },
  {
   "cell_type": "markdown",
   "id": "57eaee63",
   "metadata": {},
   "source": [
    "## 2. Code\n",
    "\n",
    "Copy and paste the following code to your Arduino IDE, and upload.\n",
    "\n",
    "```cpp\n",
    "#define PIR_PIN 13         // input from PIR sensor\n",
    "#define LED_PIN 4          // onboard flash LED on ESP32-CAM is GPIO 4\n",
    "\n",
    "void setup() {\n",
    "pinMode(PIR_PIN, INPUT);\n",
    "pinMode(LED_PIN, OUTPUT);\n",
    "}\n",
    "\n",
    "void loop() {\n",
    "int motion = digitalRead(PIR_PIN);\n",
    "if (motion == HIGH) {\n",
    "    digitalWrite(LED_PIN, HIGH);\n",
    "} else {\n",
    "    digitalWrite(LED_PIN, LOW);\n",
    "}\n",
    "delay(100);\n",
    "}\n",
    "```"
   ]
  },
  {
   "cell_type": "markdown",
   "id": "c864653f",
   "metadata": {},
   "source": [
    "## 3. Run it\n",
    "\n",
    "Now power the ESP32-CAM with everything connected. Try waving your hand in front of the PIR sensor, you should see the onboard flash LED lights up. If you keep still, the LED shall be off. (If it still turns on, there is probably a ghost. Turn around and run for your life.)"
   ]
  }
 ],
 "metadata": {
  "language_info": {
   "name": "python"
  }
 },
 "nbformat": 4,
 "nbformat_minor": 5
}
