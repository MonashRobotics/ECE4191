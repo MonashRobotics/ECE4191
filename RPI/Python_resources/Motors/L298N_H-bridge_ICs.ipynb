{
 "cells": [
  {
   "cell_type": "code",
   "execution_count": null,
   "metadata": {},
   "outputs": [],
   "source": [
    "import time\n",
    "import RPi.GPIO as GPIO"
   ]
  },
  {
   "cell_type": "markdown",
   "metadata": {},
   "source": [
    "This notebook is basic tutorial for L298N H-bridge ICs demonstrated using RPi.GPIO library, including:\n",
    "1. \n"
   ]
  },
  {
   "cell_type": "markdown",
   "metadata": {},
   "source": [
    "## 1. L298 Pinout\n",
    "\n",
    "<img src=\"Figures/Introduction-to-L298_5.png.webp\" alt=\"L298 Pinout\" width=\"500\"/>\n",
    "\n",
    "The L298 is able to drive two motors, denoted as motor A and motor B. The following pins are used for motor A (\"-->\" shows how they should be wired up.): \n",
    "- Pin 5: INPUT 1 --> Rpi GPIO\n",
    "- Pin 7: INPUT 2 --> Rpi GPIO\n",
    "- Pin 2: OUTPUT 1 --> Motor A power\n",
    "- Pin 3: OUTPUT 2 --> Motor A power\n",
    "- Pin 6: ENABLE A --> Rpi GPIO\n",
    "- Pin 1: CURRENT SENSING A --> Ground (This pin is used to measure how much current the motor is drawing, we don't demonstrate this in this tutorial.)\n",
    "\n",
    "For motor B:\n",
    "- Pin 10: INPUT 3 --> Rpi GPIO\n",
    "- Pin 12: INPUT 4 --> Rpi GPIO\n",
    "- Pin 13: OUTPUT 3 --> Motor B power\n",
    "- Pin 14: OUTPUT 4 --> Motor B power\n",
    "- Pin 11: ENABLE B --> Rpi GPIO\n",
    "- Pin 15: CURRENT SENSING B --> Ground (This pin is used to measure how much current the motor is drawing, we don't demonstrate this in this tutorial.)\n",
    "\n",
    "The other pins are common for both motors:\n",
    "- Pin 9: LOGIC SUPPLY VOLTAGE Vss --> 5V\n",
    "- Pin 8: GND --> Ground\n",
    "- Pin 4: SUPPLY VOLTAGE Vs --> 12V"
   ]
  },
  {
   "cell_type": "markdown",
   "metadata": {},
   "source": [
    "## 2. Assigning GPIO"
   ]
  },
  {
   "cell_type": "code",
   "execution_count": null,
   "metadata": {},
   "outputs": [],
   "source": [
    "# Assign pins to GPIOs (For demo only, different GPIOs can be used in practice)\n",
    "motor_A_in1 = 18\n",
    "motor_A_in2 = 23\n",
    "motor_A_en = 13\n",
    "\n",
    "motor_B_in2 = 24\n",
    "motor_B_in1 = 25\n",
    "motor_B_en = 19\n",
    "\n",
    "# Set GPIO modes\n",
    "GPIO.setmode(GPIO.BCM)\n",
    "GPIO.setup(motor_A_in1, GPIO.OUT)\n",
    "GPIO.setup(motor_A_in2, GPIO.OUT)\n",
    "GPIO.setup(motor_B_in1, GPIO.OUT)\n",
    "GPIO.setup(motor_B_in2, GPIO.OUT)\n",
    "GPIO.setup(motor_A_en, GPIO.OUT)\n",
    "GPIO.setup(motor_B_en, GPIO.OUT)"
   ]
  },
  {
   "cell_type": "markdown",
   "metadata": {},
   "source": [
    "## 3. Motor direction control\n",
    "\n",
    "The direction of motor rotation is controlled by outputing logic High or Low to the two input pins of the L298. For instance:\n",
    "\n",
    "| INPUT 1 | INPUT 2 | Motor direction |\n",
    "| :-----: | :-----: | :-------------: |\n",
    "| Low     | Low     | None            |\n",
    "| High    | Low     | Clockwise       |\n",
    "| Low     | High    | Anticlockwise   |\n",
    "| High    | High    | N/A             |\n",
    "\n",
    "At the moment, we set both enable pins to High to simply enable full speed for both motors."
   ]
  },
  {
   "cell_type": "code",
   "execution_count": null,
   "metadata": {},
   "outputs": [],
   "source": [
    "start_time = time.time()\n",
    "\n",
    "# Rotate both motor L and R anticlockwise for 3 seconds\n",
    "while time.time() - start_time < 3:\n",
    "    GPIO.output(motor_A_en, GPIO.HIGH)\n",
    "    GPIO.output(motor_B_en, GPIO.HIGH)\n",
    "\n",
    "    GPIO.output(motor_A_in1, GPIO.LOW)\n",
    "    GPIO.output(motor_A_in2, GPIO.HIGH)\n",
    "\n",
    "    GPIO.output(motor_B_in1, GPIO.LOW)\n",
    "    GPIO.output(motor_B_in2, GPIO.HIGH)\n",
    "\n",
    "GPIO.cleanup()"
   ]
  },
  {
   "cell_type": "markdown",
   "metadata": {},
   "source": [
    "## 4. Motor speed control using PWM\n",
    "\n",
    "Output a PWM at enable pins to modulate the speed of the motor."
   ]
  },
  {
   "cell_type": "code",
   "execution_count": null,
   "metadata": {},
   "outputs": [],
   "source": [
    "# Create PWM instance with a frequency of 100 Hz\n",
    "pwm_L = GPIO.PWM(motor_A_en, 100)\n",
    "pwm_R = GPIO.PWM(motor_B_en, 100)\n",
    "\n",
    "# Start PWM with a duty cycle of 0%\n",
    "pwm_L.start(0)\n",
    "pwm_R.start(0)\n",
    "\n",
    "# Change PWM duty cycle to 20%\n",
    "pwm_L.ChangeDutyCycle(20)\n",
    "pwm_R.ChangeDutyCycle(20)\n",
    "\n",
    "start_time = time.time()\n",
    "\n",
    "# Rotate both motor L and R anticlockwise for 3 seconds with 20% of the full motor speed\n",
    "while time.time() - start_time < 3:\n",
    "    GPIO.output(motor_A_in1, GPIO.LOW)\n",
    "    GPIO.output(motor_A_in2, GPIO.HIGH)\n",
    "\n",
    "    GPIO.output(motor_B_in1, GPIO.LOW)\n",
    "    GPIO.output(motor_B_in2, GPIO.HIGH)\n",
    "\n",
    "pwm_L.stop()\n",
    "pwm_R.stop()\n",
    "GPIO.cleanup()"
   ]
  }
 ],
 "metadata": {
  "language_info": {
   "name": "python"
  }
 },
 "nbformat": 4,
 "nbformat_minor": 2
}
