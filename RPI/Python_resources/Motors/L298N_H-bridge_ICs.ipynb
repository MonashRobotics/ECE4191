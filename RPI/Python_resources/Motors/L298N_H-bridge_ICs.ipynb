{
 "cells": [
  {
   "cell_type": "code",
   "execution_count": null,
   "metadata": {},
   "outputs": [],
   "source": [
    "import time\n",
    "from enum import Enum\n",
    "import RPi.GPIO as GPIO"
   ]
  },
  {
   "cell_type": "markdown",
   "metadata": {},
   "source": [
    "This notebook is basic tutorial for L298N H-bridge ICs, including:\n",
    "\n"
   ]
  },
  {
   "cell_type": "markdown",
   "metadata": {},
   "source": [
    "## 1. L298 Pinout\n",
    "\n",
    "<img src=\"Figures/Introduction-to-L298_5.png.webp\" alt=\"L298 Pinout\" width=\"500\"/>\n",
    "\n",
    "The L298 is able to drive two motors, denoted as motor A and motor B. The following pins are used for motor A (\"-->\" shows how they should be wired up.): \n",
    "- Pin 5: INPUT 1 --> Rpi GPIO\n",
    "- Pin 7: INPUT 2 --> Rpi GPIO\n",
    "- Pin 2: OUTPUT 1 --> Motor A power\n",
    "- Pin 3: OUTPUT 2 --> Motor A power\n",
    "- Pin 6: ENABLE A --> Rpi GPIO\n",
    "- Pin 1: CURRENT SENSING A --> Ground (This pin is used to measure how much current the motor is drawing, we don't demonstrate this in this tutorial.)\n",
    "\n",
    "For motor B:\n",
    "- Pin 10: INPUT 3 --> Rpi GPIO\n",
    "- Pin 12: INPUT 4 --> Rpi GPIO\n",
    "- Pin 13: OUTPUT 3 --> Motor B power\n",
    "- Pin 14: OUTPUT 4 --> Motor B power\n",
    "- Pin 11: ENABLE B --> Rpi GPIO\n",
    "- Pin 15: CURRENT SENSING B --> Ground (This pin is used to measure how much current the motor is drawing, we don't demonstrate this in this tutorial.)\n",
    "\n",
    "The other pins are common for both motors:\n",
    "- Pin 9: LOGIC SUPPLY VOLTAGE Vss --> 5V\n",
    "- Pin 8: GND --> Ground\n",
    "- Pin 4: SUPPLY VOLTAGE Vs --> 12V"
   ]
  },
  {
   "cell_type": "markdown",
   "metadata": {},
   "source": [
    "## 2. Assigning GPIO"
   ]
  },
  {
   "cell_type": "code",
   "execution_count": null,
   "metadata": {},
   "outputs": [],
   "source": [
    "motor_L_in1 = 18\n",
    "motor_L_in2 = 23\n",
    "motor_L_en = 13\n",
    "\n",
    "motor_R_in2 = 24\n",
    "motor_R_in1 = 25\n",
    "motor_R_en = 19\n",
    "\n",
    "GPIO.setmode(GPIO.BCM)\n",
    "GPIO.setup(motor_L_in1, GPIO.OUT)\n",
    "GPIO.setup(motor_L_in2, GPIO.OUT)\n",
    "GPIO.setup(motor_R_in1, GPIO.OUT)\n",
    "GPIO.setup(motor_R_in2, GPIO.OUT)\n",
    "GPIO.setup(motor_L_en, GPIO.OUT)\n",
    "GPIO.setup(motor_R_en, GPIO.OUT)"
   ]
  },
  {
   "cell_type": "markdown",
   "metadata": {},
   "source": []
  }
 ],
 "metadata": {
  "language_info": {
   "name": "python"
  }
 },
 "nbformat": 4,
 "nbformat_minor": 2
}
