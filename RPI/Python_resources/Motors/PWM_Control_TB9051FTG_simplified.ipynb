{
 "cells": [
  {
   "cell_type": "code",
   "execution_count": 1,
   "metadata": {},
   "outputs": [],
   "source": [
    "import gpiozero\n",
    "import time"
   ]
  },
  {
   "cell_type": "markdown",
   "metadata": {},
   "source": [
    "#### PWM motor control and shaft encoder feedback\n",
    "\n",
    "I'll use the [gpiozero](https://gpiozero.readthedocs.io/en/stable/) high level interface to the electronics. If you want more control, consider [RPi.GPIO](https://pypi.org/project/RPi.GPIO/) or [pigpio](http://abyz.me.uk/rpi/pigpio/). The code below turns on a pwm control, toggles the direction of the pwm drive, and reads from a rotary encoder. Parameters aren't tuned or properly set-up at all. Note, the TB9051FTG simplified truth table uses one pwm line to drive the motor, and two binary lines to toggle the direction. This is slightly more complex than the TB6612FNG motor driver, which only needs a single pwm pin and direction pin."
   ]
  },
  {
   "cell_type": "code",
   "execution_count": 2,
   "metadata": {},
   "outputs": [],
   "source": [
    "pwm = gpiozero.PWMOutputDevice(pin=12,active_high=True,initial_value=0,frequency=100)\n",
    "dir1 = gpiozero.OutputDevice(pin=4)\n",
    "dir2 = gpiozero.OutputDevice(pin=17)"
   ]
  },
  {
   "cell_type": "code",
   "execution_count": 3,
   "metadata": {},
   "outputs": [],
   "source": [
    "encoder = gpiozero.RotaryEncoder(a=21, b=20,max_steps=100000) \n",
    "# This class has a lot more functionality,so worth reading up on it"
   ]
  },
  {
   "cell_type": "code",
   "execution_count": 4,
   "metadata": {},
   "outputs": [
    {
     "name": "stdout",
     "output_type": "stream",
     "text": [
      "Duty cycle: 0.0 Direction: 1\n",
      "Counter: 0 Speed: 0.0 steps per second\n",
      "\n",
      "Duty cycle: 0.1 Direction: 0\n",
      "Counter: 1722 Speed: 344.4 steps per second\n",
      "\n",
      "Duty cycle: 0.2 Direction: 1\n",
      "Counter: -3548 Speed: -709.6 steps per second\n",
      "\n",
      "Duty cycle: 0.3 Direction: 0\n",
      "Counter: 4241 Speed: 848.2 steps per second\n",
      "\n",
      "Duty cycle: 0.4 Direction: 1\n",
      "Counter: -4706 Speed: -941.2 steps per second\n",
      "\n",
      "Duty cycle: 0.5 Direction: 0\n",
      "Counter: 4864 Speed: 972.8 steps per second\n",
      "\n",
      "Duty cycle: 0.6 Direction: 1\n",
      "Counter: -5098 Speed: -1019.6 steps per second\n",
      "\n",
      "Duty cycle: 0.7 Direction: 0\n",
      "Counter: 5142 Speed: 1028.4 steps per second\n",
      "\n",
      "Duty cycle: 0.8 Direction: 1\n",
      "Counter: -5298 Speed: -1059.6 steps per second\n",
      "\n",
      "Duty cycle: 0.9 Direction: 0\n",
      "Counter: 5313 Speed: 1062.6 steps per second\n",
      "\n"
     ]
    }
   ],
   "source": [
    "# Step through duty cycle values, slowly increasing the speed and changing the direction of motion\n",
    "encoder.steps = 0\n",
    "for j in range(10):\n",
    "    pwm.value = j/10\n",
    "    dir1.value = not dir1.value\n",
    "    dir2.value = not dir1.value\n",
    "    print('Duty cycle:',pwm.value,'Direction:',dir1.value)\n",
    "    time.sleep(5.0)\n",
    "    print('Counter:',encoder.steps,'Speed:',(encoder.steps)/5.0,'steps per second\\n')\n",
    "    encoder.steps = 0\n",
    "\n",
    "pwm.value =0 "
   ]
  },
  {
   "cell_type": "code",
   "execution_count": 5,
   "metadata": {},
   "outputs": [],
   "source": [
    "pwm.off()"
   ]
  }
 ],
 "metadata": {
  "kernelspec": {
   "display_name": "Python 3 (ipykernel)",
   "language": "python",
   "name": "python3"
  },
  "language_info": {
   "codemirror_mode": {
    "name": "ipython",
    "version": 3
   },
   "file_extension": ".py",
   "mimetype": "text/x-python",
   "name": "python",
   "nbconvert_exporter": "python",
   "pygments_lexer": "ipython3",
   "version": "3.10.4"
  }
 },
 "nbformat": 4,
 "nbformat_minor": 4
}
