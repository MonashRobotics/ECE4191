{
 "cells": [
  {
   "cell_type": "code",
   "execution_count": null,
   "metadata": {},
   "outputs": [],
   "source": [
    "import time\n",
    "import board\n",
    "import adafruit_tcs34725"
   ]
  },
  {
   "cell_type": "markdown",
   "metadata": {},
   "source": [
    "#### This notebook is developed based on the tutorial from [Here](https://learn.adafruit.com/adafruit-color-sensors/python-circuitpython), introducing basic operations of TCS34725 RGB color sensor interfacing with Raspberry Pi via I2C connection."
   ]
  },
  {
   "cell_type": "markdown",
   "metadata": {},
   "source": [
    "## 1. Wiring with Rpi\n",
    "\n",
    " - Sensor VIN --> Pi 3V3\n",
    " - Sensor GND --> Pi GND\n",
    " - Sensor SCL --> Pi SCL\n",
    " - Sensor SDA --> Pi SDA"
   ]
  },
  {
   "cell_type": "markdown",
   "metadata": {},
   "source": [
    "## 2. Install libraries\n",
    "\n",
    "First, you need to install the Adafruit_Blinka library that provides the CircuitPython support in Python.\n",
    "\n",
    "```\n",
    "sudo pip install Adafruit-Blinka\n",
    "```\n",
    "Once that's done, from your command line run the following command:\n",
    "```\n",
    "sudo pip install adafruit-circuitpython-tcs34725\n",
    "```\n",
    "Be aware that CircuitPython is not supported on Python 2.x."
   ]
  },
  {
   "cell_type": "markdown",
   "metadata": {},
   "source": [
    "## 3. Python usage"
   ]
  },
  {
   "cell_type": "code",
   "execution_count": null,
   "metadata": {},
   "outputs": [],
   "source": [
    "# Initialise the I2C connection with the sensor\n",
    "i2c = board.I2C()\n",
    "sensor = adafruit_tcs34725.TCS34725(i2c)"
   ]
  },
  {
   "cell_type": "code",
   "execution_count": null,
   "metadata": {},
   "outputs": [],
   "source": [
    "while True:\n",
    "    # Read red, green, blue color values\n",
    "    print('Color: ({0}, {1}, {2})'.format(*sensor.color_rgb_bytes))\n",
    "    # Read color temperature in Kelvin\n",
    "    print('Temperature: {0}K'.format(sensor.color_temperature))\n",
    "    # Read light intensity in lux\n",
    "    print('Lux: {0}'.format(sensor.lux))\n",
    "    time.sleep(1.0)"
   ]
  },
  {
   "cell_type": "markdown",
   "metadata": {},
   "source": [
    "In addition there are some properties you can both read and write to change how the sensor behaves:\n",
    "- integration_time - The integration time of the sensor in milliseconds.  Must be a value between 2.4 and 614.4.\n",
    "- gain - The gain of the sensor, must be a value of 1, 4, 16, 60."
   ]
  },
  {
   "cell_type": "code",
   "execution_count": null,
   "metadata": {},
   "outputs": [],
   "source": [
    "sensor.integration_time = 200\n",
    "sensor.gain = 60"
   ]
  },
  {
   "cell_type": "markdown",
   "metadata": {},
   "source": [
    "## 4. (Optional) Change color of terminal print line with the color detected"
   ]
  },
  {
   "cell_type": "code",
   "execution_count": null,
   "metadata": {},
   "outputs": [],
   "source": [
    "def rgb2ansi(r, g, b):\n",
    "    '''\n",
    "    Converts RGB color to an ANSI escape code\n",
    "    '''\n",
    "    return f\"\\033[38;2;{r};{g};{b}m\""
   ]
  },
  {
   "cell_type": "code",
   "execution_count": null,
   "metadata": {},
   "outputs": [],
   "source": [
    "while True:\n",
    "    ansi = rgb2ansi(*sensor.color_rgb_bytes)\n",
    "    print('{0}Color: ({1}, {2}, {3}\\033[0m)'.format(ansi,*sensor.color_rgb_bytes))\n",
    "    print('Temperature: {0}K'.format(sensor.color_temperature))\n",
    "    print('Lux: {0}'.format(sensor.lux))\n",
    "    time.sleep(1.0)"
   ]
  }
 ],
 "metadata": {
  "language_info": {
   "name": "python"
  }
 },
 "nbformat": 4,
 "nbformat_minor": 2
}
