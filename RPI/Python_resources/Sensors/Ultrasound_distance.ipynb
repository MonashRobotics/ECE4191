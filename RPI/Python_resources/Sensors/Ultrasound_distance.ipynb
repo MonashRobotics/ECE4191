{
 "cells": [
  {
   "cell_type": "code",
   "execution_count": 1,
   "metadata": {},
   "outputs": [],
   "source": [
    "import gpiozero\n",
    "import time"
   ]
  },
  {
   "cell_type": "markdown",
   "metadata": {},
   "source": [
    "#### Ultrasound distance sensor interfacing\n",
    "\n",
    "I'll use the [gpiozero](https://gpiozero.readthedocs.io/en/stable/) high level interface to the electronics. If you want more control, consider [RPi.GPIO](https://pypi.org/project/RPi.GPIO/) or [pigpio](http://abyz.me.uk/rpi/pigpio/). The code below returns the distance to objects detected by the ultrasound sensor."
   ]
  },
  {
   "cell_type": "code",
   "execution_count": 2,
   "metadata": {},
   "outputs": [
    {
     "name": "stderr",
     "output_type": "stream",
     "text": [
      "/usr/local/lib/python3.8/dist-packages/gpiozero/input_devices.py:855: PWMSoftwareFallback: For more accurate readings, use the pigpio pin factory.See https://gpiozero.readthedocs.io/en/stable/api_input.html#distancesensor-hc-sr04 for more info\n",
      "  warnings.warn(PWMSoftwareFallback(\n"
     ]
    }
   ],
   "source": [
    "sensor = gpiozero.DistanceSensor(echo=1,trigger=7)"
   ]
  },
  {
   "cell_type": "code",
   "execution_count": 3,
   "metadata": {},
   "outputs": [
    {
     "name": "stdout",
     "output_type": "stream",
     "text": [
      "Distance:  100.0\n",
      "Distance:  100.0\n",
      "Distance:  100.0\n",
      "Distance:  100.0\n",
      "Distance:  7.288113480964056\n",
      "Distance:  100.0\n",
      "Distance:  100.0\n",
      "Distance:  8.574669121939223\n",
      "Distance:  3.858740130726801\n",
      "Distance:  2.819451814808417\n"
     ]
    }
   ],
   "source": [
    "for j in range(10):\n",
    "    print('Distance: ', sensor.distance * 100)\n",
    "    time.sleep(1)"
   ]
  }
 ],
 "metadata": {
  "kernelspec": {
   "display_name": "Python 3",
   "language": "python",
   "name": "python3"
  },
  "language_info": {
   "codemirror_mode": {
    "name": "ipython",
    "version": 3
   },
   "file_extension": ".py",
   "mimetype": "text/x-python",
   "name": "python",
   "nbconvert_exporter": "python",
   "pygments_lexer": "ipython3",
   "version": "3.8.5"
  }
 },
 "nbformat": 4,
 "nbformat_minor": 4
}
