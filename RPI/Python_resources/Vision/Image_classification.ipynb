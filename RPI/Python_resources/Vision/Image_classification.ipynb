{
 "cells": [
  {
   "cell_type": "code",
   "execution_count": 1,
   "metadata": {},
   "outputs": [],
   "source": [
    "import torch\n",
    "import torchvision\n",
    "import torchvision.transforms as transforms"
   ]
  },
  {
   "cell_type": "markdown",
   "metadata": {},
   "source": [
    "Lets train a basic image classification model using pytorch\n",
    "\n",
    "The notebook below replicates the tutorial at https://pytorch.org/tutorials/beginner/blitz/cifar10_tutorial.html"
   ]
  },
  {
   "cell_type": "code",
   "execution_count": 2,
   "metadata": {},
   "outputs": [
    {
     "name": "stdout",
     "output_type": "stream",
     "text": [
      "Files already downloaded and verified\n",
      "Files already downloaded and verified\n"
     ]
    }
   ],
   "source": [
    "# First we will set up some transformations to apply to our images\n",
    "# This just normalises the input images\n",
    "transform = transforms.Compose(\n",
    "    [transforms.ToTensor(),\n",
    "     transforms.Normalize((0.5, 0.5, 0.5), (0.5, 0.5, 0.5))])\n",
    "\n",
    "# We'll train our model using batches of images, 4 at a time\n",
    "batch_size = 4\n",
    "\n",
    "# We'll demonstrate this using an existing dataset CIFAR10, but you can change this to meet your needs\n",
    "# The first time you run this, it will download the dataset to the ./data folder\n",
    "trainset = torchvision.datasets.CIFAR10(root='./data', train=True,\n",
    "                                        download=True, transform=transform)\n",
    "\n",
    "# We'll use a dataloader to feed in random batches of this dataset repeatedly\n",
    "trainloader = torch.utils.data.DataLoader(trainset, batch_size=batch_size,\n",
    "                                          shuffle=True, num_workers=2)\n",
    "\n",
    "# We'll use a test dataset kept separate from our model to validate it, and ensure we aren't overfitting\n",
    "testset = torchvision.datasets.CIFAR10(root='./data', train=False,\n",
    "                                       download=True, transform=transform)\n",
    "\n",
    "testloader = torch.utils.data.DataLoader(testset, batch_size=batch_size,\n",
    "                                         shuffle=False, num_workers=2)\n",
    "\n",
    "# The CIFAR10 dataset has 10 classes we need to tell apart\n",
    "classes = ('plane', 'car', 'bird', 'cat',\n",
    "           'deer', 'dog', 'frog', 'horse', 'ship', 'truck')"
   ]
  },
  {
   "cell_type": "markdown",
   "metadata": {},
   "source": [
    "Let's look at some training images"
   ]
  },
  {
   "cell_type": "code",
   "execution_count": 3,
   "metadata": {},
   "outputs": [
    {
     "data": {
      "image/png": "[encoded data removed]",
      "text/plain": [
       "<Figure size 640x480 with 1 Axes>"
      ]
     },
     "metadata": {},
     "output_type": "display_data"
    },
    {
     "name": "stdout",
     "output_type": "stream",
     "text": [
      "ship  horse dog   cat  \n"
     ]
    }
   ],
   "source": [
    "import matplotlib.pyplot as plt\n",
    "import numpy as np\n",
    "\n",
    "# functions to show an image\n",
    "def imshow(img):\n",
    "    img = img / 2 + 0.5     # unnormalize\n",
    "    npimg = img.numpy()\n",
    "    plt.imshow(np.transpose(npimg, (1, 2, 0)))\n",
    "    plt.show()\n",
    "\n",
    "\n",
    "# get some random training images\n",
    "dataiter = iter(trainloader)\n",
    "images, labels = next(dataiter)\n",
    "\n",
    "# show images\n",
    "imshow(torchvision.utils.make_grid(images))\n",
    "# print labels\n",
    "print(' '.join(f'{classes[labels[j]]:5s}' for j in range(batch_size)))"
   ]
  },
  {
   "cell_type": "markdown",
   "metadata": {},
   "source": [
    "Let's define a Convolutional neural network. You may want to look into using an existing one, and fine-tuning for you specific application."
   ]
  },
  {
   "cell_type": "code",
   "execution_count": 4,
   "metadata": {},
   "outputs": [],
   "source": [
    "import torch.nn as nn\n",
    "import torch.nn.functional as F\n",
    "\n",
    "\n",
    "class Net(nn.Module):\n",
    "    def __init__(self):\n",
    "        super().__init__()\n",
    "        self.conv1 = nn.Conv2d(3, 6, 5)\n",
    "        self.pool = nn.MaxPool2d(2, 2)\n",
    "        self.conv2 = nn.Conv2d(6, 16, 5)\n",
    "        self.fc1 = nn.Linear(16 * 5 * 5, 120)\n",
    "        self.fc2 = nn.Linear(120, 84)\n",
    "        self.fc3 = nn.Linear(84, 10)\n",
    "\n",
    "    def forward(self, x):\n",
    "        x = self.pool(F.relu(self.conv1(x)))\n",
    "        x = self.pool(F.relu(self.conv2(x)))\n",
    "        x = torch.flatten(x, 1) # flatten all dimensions except batch\n",
    "        x = F.relu(self.fc1(x))\n",
    "        x = F.relu(self.fc2(x))\n",
    "        x = self.fc3(x)\n",
    "        return x\n",
    "\n",
    "\n",
    "net = Net()"
   ]
  },
  {
   "cell_type": "markdown",
   "metadata": {},
   "source": [
    "We'll the define a loss function and optimiser"
   ]
  },
  {
   "cell_type": "code",
   "execution_count": 5,
   "metadata": {},
   "outputs": [],
   "source": [
    "import torch.optim as optim\n",
    "\n",
    "criterion = nn.CrossEntropyLoss()\n",
    "optimizer = optim.Adam(net.parameters(), lr=0.001)"
   ]
  },
  {
   "cell_type": "markdown",
   "metadata": {},
   "source": [
    "Now we'll train our network, by repeatedly showing it batches of images and corresponding labels"
   ]
  },
  {
   "cell_type": "code",
   "execution_count": 6,
   "metadata": {},
   "outputs": [
    {
     "name": "stdout",
     "output_type": "stream",
     "text": [
      "[1,  2000] loss: 1.862\n",
      "[1,  4000] loss: 1.591\n",
      "[1,  6000] loss: 1.508\n",
      "[1,  8000] loss: 1.434\n",
      "[1, 10000] loss: 1.399\n",
      "[1, 12000] loss: 1.370\n",
      "[2,  2000] loss: 1.282\n",
      "[2,  4000] loss: 1.259\n",
      "[2,  6000] loss: 1.304\n",
      "[2,  8000] loss: 1.237\n",
      "[2, 10000] loss: 1.233\n",
      "[2, 12000] loss: 1.230\n",
      "[3,  2000] loss: 1.157\n",
      "[3,  4000] loss: 1.170\n",
      "[3,  6000] loss: 1.172\n",
      "[3,  8000] loss: 1.166\n",
      "[3, 10000] loss: 1.178\n",
      "[3, 12000] loss: 1.138\n",
      "[4,  2000] loss: 1.112\n",
      "[4,  4000] loss: 1.111\n",
      "[4,  6000] loss: 1.096\n",
      "[4,  8000] loss: 1.101\n",
      "[4, 10000] loss: 1.110\n",
      "[4, 12000] loss: 1.077\n",
      "[5,  2000] loss: 1.018\n",
      "[5,  4000] loss: 1.039\n",
      "[5,  6000] loss: 1.053\n",
      "[5,  8000] loss: 1.069\n",
      "[5, 10000] loss: 1.065\n",
      "[5, 12000] loss: 1.062\n",
      "[6,  2000] loss: 0.985\n",
      "[6,  4000] loss: 0.987\n",
      "[6,  6000] loss: 1.025\n",
      "[6,  8000] loss: 1.017\n",
      "[6, 10000] loss: 1.045\n",
      "[6, 12000] loss: 1.037\n",
      "[7,  2000] loss: 0.956\n",
      "[7,  4000] loss: 0.983\n",
      "[7,  6000] loss: 0.988\n",
      "[7,  8000] loss: 0.984\n",
      "[7, 10000] loss: 1.005\n",
      "[7, 12000] loss: 0.981\n",
      "[8,  2000] loss: 0.931\n",
      "[8,  4000] loss: 0.941\n",
      "[8,  6000] loss: 0.952\n",
      "[8,  8000] loss: 0.970\n",
      "[8, 10000] loss: 0.980\n",
      "[8, 12000] loss: 0.987\n",
      "[9,  2000] loss: 0.893\n",
      "[9,  4000] loss: 0.919\n",
      "[9,  6000] loss: 0.962\n",
      "[9,  8000] loss: 0.949\n",
      "[9, 10000] loss: 0.960\n",
      "[9, 12000] loss: 0.945\n",
      "[10,  2000] loss: 0.872\n",
      "[10,  4000] loss: 0.904\n",
      "[10,  6000] loss: 0.918\n",
      "[10,  8000] loss: 0.918\n",
      "[10, 10000] loss: 0.954\n",
      "[10, 12000] loss: 0.957\n",
      "Finished Training\n"
     ]
    }
   ],
   "source": [
    "for epoch in range(10):  # loop over the dataset multiple times\n",
    "\n",
    "    running_loss = 0.0\n",
    "    for i, data in enumerate(trainloader, 0):\n",
    "        # get the inputs; data is a list of [inputs, labels]\n",
    "        inputs, labels = data\n",
    "\n",
    "        # zero the parameter gradients\n",
    "        optimizer.zero_grad()\n",
    "\n",
    "        # forward + backward + optimize\n",
    "        outputs = net(inputs)\n",
    "        loss = criterion(outputs, labels)\n",
    "        loss.backward()\n",
    "        optimizer.step()\n",
    "\n",
    "        # print statistics\n",
    "        running_loss += loss.item()\n",
    "        if i % 2000 == 1999:    # print every 2000 mini-batches\n",
    "            print(f'[{epoch + 1}, {i + 1:5d}] loss: {running_loss / 2000:.3f}')\n",
    "            running_loss = 0.0\n",
    "\n",
    "print('Finished Training')"
   ]
  },
  {
   "cell_type": "code",
   "execution_count": 7,
   "metadata": {},
   "outputs": [],
   "source": [
    "# Let's save the trained model to use in another application\n",
    "PATH = './cifar_net.pth'\n",
    "torch.save(net.state_dict(), PATH)"
   ]
  },
  {
   "cell_type": "markdown",
   "metadata": {},
   "source": [
    "OK. Lets test our trained model"
   ]
  },
  {
   "cell_type": "code",
   "execution_count": 22,
   "metadata": {},
   "outputs": [
    {
     "data": {
      "text/plain": [
       "<All keys matched successfully>"
      ]
     },
     "execution_count": 22,
     "metadata": {},
     "output_type": "execute_result"
    }
   ],
   "source": [
    "# Let's create a new network and load our saved model - we don't need to do this, but this just shows you how\n",
    "net = Net()\n",
    "net.load_state_dict(torch.load(PATH))"
   ]
  },
  {
   "cell_type": "code",
   "execution_count": 23,
   "metadata": {},
   "outputs": [],
   "source": [
    "dataiter = iter(testloader)"
   ]
  },
  {
   "cell_type": "code",
   "execution_count": 47,
   "metadata": {},
   "outputs": [
    {
     "data": {
      "image/png": "[encoded data removed]",
      "text/plain": [
       "<Figure size 640x480 with 1 Axes>"
      ]
     },
     "metadata": {},
     "output_type": "display_data"
    },
    {
     "name": "stdout",
     "output_type": "stream",
     "text": [
      "GroundTruth:  ship  car   car   horse\n",
      "Predicted:  dog   dog   car   horse\n"
     ]
    }
   ],
   "source": [
    "# Try re-running the cell a few times...\n",
    "\n",
    "images, labels = next(dataiter)\n",
    "\n",
    "# Show test images\n",
    "imshow(torchvision.utils.make_grid(images))\n",
    "print('GroundTruth: ', ' '.join(f'{classes[labels[j]]:5s}' for j in range(4)))\n",
    "\n",
    "# Lets see how the model did on these test images\n",
    "_, predicted = torch.max(outputs, 1)\n",
    "\n",
    "print('Predicted: ', ' '.join(f'{classes[predicted[j]]:5s}'\n",
    "                              for j in range(4)))"
   ]
  },
  {
   "cell_type": "markdown",
   "metadata": {},
   "source": [
    "That doesn't tell us much, maybe we need a more rigourous test, looking at a larger number of test images"
   ]
  },
  {
   "cell_type": "code",
   "execution_count": 30,
   "metadata": {},
   "outputs": [
    {
     "name": "stdout",
     "output_type": "stream",
     "text": [
      "Accuracy of the network on the 10000 test images: 60 %\n"
     ]
    }
   ],
   "source": [
    "correct = 0\n",
    "total = 0\n",
    "# since we're not training, we don't need to calculate the gradients for our outputs\n",
    "with torch.no_grad():\n",
    "    for data in testloader:\n",
    "        images, labels = data\n",
    "        # calculate outputs by running images through the network\n",
    "        outputs = net(images)\n",
    "        # the class with the highest energy is what we choose as prediction\n",
    "        _, predicted = torch.max(outputs.data, 1)\n",
    "        total += labels.size(0)\n",
    "        correct += (predicted == labels).sum().item()\n",
    "\n",
    "print(f'Accuracy of the network on the 10000 test images: {100 * correct // total} %')"
   ]
  },
  {
   "cell_type": "markdown",
   "metadata": {},
   "source": [
    "Let's see how it did on individual classes"
   ]
  },
  {
   "cell_type": "code",
   "execution_count": 31,
   "metadata": {},
   "outputs": [
    {
     "name": "stdout",
     "output_type": "stream",
     "text": [
      "Accuracy for class: plane is 68.8 %\n",
      "Accuracy for class: car   is 85.9 %\n",
      "Accuracy for class: bird  is 40.1 %\n",
      "Accuracy for class: cat   is 52.6 %\n",
      "Accuracy for class: deer  is 43.5 %\n",
      "Accuracy for class: dog   is 56.8 %\n",
      "Accuracy for class: frog  is 58.2 %\n",
      "Accuracy for class: horse is 70.3 %\n",
      "Accuracy for class: ship  is 71.0 %\n",
      "Accuracy for class: truck is 59.3 %\n"
     ]
    }
   ],
   "source": [
    "# prepare to count predictions for each class\n",
    "correct_pred = {classname: 0 for classname in classes}\n",
    "total_pred = {classname: 0 for classname in classes}\n",
    "\n",
    "# again no gradients needed\n",
    "with torch.no_grad():\n",
    "    for data in testloader:\n",
    "        images, labels = data\n",
    "        outputs = net(images)\n",
    "        _, predictions = torch.max(outputs, 1)\n",
    "        # collect the correct predictions for each class\n",
    "        for label, prediction in zip(labels, predictions):\n",
    "            if label == prediction:\n",
    "                correct_pred[classes[label]] += 1\n",
    "            total_pred[classes[label]] += 1\n",
    "\n",
    "\n",
    "# print accuracy for each class\n",
    "for classname, correct_count in correct_pred.items():\n",
    "    accuracy = 100 * float(correct_count) / total_pred[classname]\n",
    "    print(f'Accuracy for class: {classname:5s} is {accuracy:.1f} %')"
   ]
  },
  {
   "cell_type": "markdown",
   "metadata": {},
   "source": [
    "Hmm, may need some more training time (or data if you are training your own model for our design task)"
   ]
  },
  {
   "cell_type": "markdown",
   "metadata": {},
   "source": [
    "Training this took some time, but if you go to the original tutorial, https://pytorch.org/tutorials/beginner/blitz/cifar10_tutorial.html you should find additional info on training on a GPU to speed things up.\n",
    "\n",
    "Executing this on the PI will be slow! Other embedded devices with GPUs or TPUs can make this faster, and you might want to look at https://developer.nvidia.com/tensorrt to optimise for Nvidia GPUs. ALternatively, you may want to consider off-boarding -transmitting your images to another machine to process there."
   ]
  }
 ],
 "metadata": {
  "kernelspec": {
   "display_name": "Python 3",
   "language": "python",
   "name": "python3"
  },
  "language_info": {
   "codemirror_mode": {
    "name": "ipython",
    "version": 3
   },
   "file_extension": ".py",
   "mimetype": "text/x-python",
   "name": "python",
   "nbconvert_exporter": "python",
   "pygments_lexer": "ipython3",
   "version": "3.10.12"
  },
  "orig_nbformat": 4
 },
 "nbformat": 4,
 "nbformat_minor": 2
}
