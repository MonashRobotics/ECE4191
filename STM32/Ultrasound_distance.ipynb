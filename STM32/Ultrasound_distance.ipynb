{
 "cells": [
  {
   "cell_type": "markdown",
   "metadata": {},
   "source": [
    "#### This basic tutorial shows you how to interface the HC-SR04 Ultrasonic Ranging Module with STM32 Nucleo-L432KC. The datasheet of the HC-SR04 can be found [here](https://cdn.sparkfun.com/datasheets/Sensors/Proximity/HCSR04.pdf). This tutorial is developed based on the tutorial [here](https://www.micropeta.com/video42)."
   ]
  },
  {
   "cell_type": "markdown",
   "metadata": {},
   "source": [
    "## 1. Wiring\n",
    "\n",
    "<img src=\"Figures\\STM_pinout.png\" alt=\"STM32 Nucleo-L432KC Pinout\" width=\"800\"/>\n",
    "\n",
    "<img src=\"Figures\\HC-SR04.jpg\" alt=\"HC-SR04\" width=\"500\"/>\n",
    "\n",
    "Connection:\n",
    "- HC-SR04 Vcc <--> STM32 5V\n",
    "- HC-SR04 Gnd <--> STM32 GND\n",
    "- HC-SR04 Trig <--> STM32 PA_4 (A3) (Any pin for GPIO can be used)\n",
    "- HC-SR04 Echo <--> STM32 PA_5 (A4) (Any pin for GPIO can be used)"
   ]
  },
  {
   "cell_type": "markdown",
   "metadata": {},
   "source": [
    "## 2. CubeIDE Clock Configuration\n",
    "\n",
    "We are going to use GPIO and the Timer `TIM1` (see [STM32 datasheet](https://www.st.com/resource/en/datasheet/stm32l432kb.pdf) page 38/156 Table 9) to supply a short 10uS pulse to the Trig pin on the module and record the high level time of the Echo pulse in order to calculate the distance. To set the Timer frequency, we first need to check the HCLK frequency to determine the correct Prescaler to use for the Timer. Open the `.ioc` file in your project and click on the `Clock Configuration` tab to see the clock setting of the STM32. \n",
    "\n",
    "<img src=\"Figures\\Clock_setting.png\" alt=\"Clock setting\" width=\"1500\"/>\n",
    "\n",
    "The `APB2 timer clocks (MHz)` is the clock used for `TIM1` (see [STM32 datasheet](https://www.st.com/resource/en/datasheet/stm32l432kb.pdf) page 32/156 Figure 4)\n",
    "\n",
    "<img src=\"Figures\\Clock_tree.png\" alt=\"Clock tree\" width=\"500\"/>\n",
    "\n",
    "In my case, the `HCLK` is set to $32$ MHz, the `APB2 Prescaler` is set to $1$ and the `Multiplier` is set to $1$, so the `APB2 timer clocks (MHz)` is $32/1 \\times 1=32$ MHz. Assume that we want the Timer to run at $1$ MHz, we need to set the Prescaler of the TIM1 to $32$. (i.e., $32/1=1$ MHz) If you want to set the HCLK to a different value, calculate the appropriate Prescaler value for the Timer correspondingly."
   ]
  },
  {
   "cell_type": "markdown",
   "metadata": {},
   "source": [
    "## 3. CubeIDE Pinout & Configuration\n",
    "\n",
    "Go to the `Pinout & Configuration` tab, under `Timers`, select `TIM1`. Set the `Clock Source` to `Internal Clock`. In the Configuration, set the `Prescaler` to $32-1$. (The `Prescaler` value will be $n+1$ where $n$ is the number you enter.) Set pin `PA4` to `GPIO_Output` and label it as `TRIG`, set pin `PA5` to `GPIO_Input` and label it as `ECHO`. (You can Enter User Label by right click on the pin.)\n",
    "\n",
    "<img src=\"Figures\\ultrasound_pin_config.png\" alt=\"Pin configuration\" width=\"1500\"/>\n",
    "\n",
    "In order to debug, in the `System Core` dropdown list, click `SYS` and make sure the `Debug` mode is set to `Serial Wire`.\n",
    "\n",
    "<img src=\"Figures\\ultrasound_debug.png\" alt=\"Debug configuration\" width=\"1500\"/>\n",
    "\n",
    "After setting, save the file and generate code."
   ]
  },
  {
   "cell_type": "markdown",
   "metadata": {},
   "source": [
    "## 4. Coding\n",
    "\n",
    "We measure the high level time of the Echo pulse. And compute the distance according to $\\text{distance}=\\text{high level time} \\times 340\\text{(m/s)}/2$.\n",
    "\n",
    "Open the main.c file. Copy the following code and paste between `/* USER CODE BEGIN PV */` and `/* USER CODE END PV */`:\n",
    "\n",
    "```c\n",
    "/* USER CODE BEGIN PV */\n",
    "uint32_t pMillis;\n",
    "uint32_t Value1 = 0;\n",
    "uint32_t Value2 = 0;\n",
    "uint16_t Distance  = 0;  // cm\n",
    "/* USER CODE END PV */\n",
    "```"
   ]
  },
  {
   "cell_type": "markdown",
   "metadata": {},
   "source": [
    "Copy the following code and paste between `/* USER CODE BEGIN 2 */` and `/* USER CODE END 2 */`:\n",
    "\n",
    "```c\n",
    "  /* USER CODE BEGIN 2 */\n",
    "  HAL_TIM_Base_Start(&htim1);\n",
    "  HAL_GPIO_WritePin(TRIG_GPIO_Port, TRIG_Pin, GPIO_PIN_RESET);  // pull the TRIG pin LOW\n",
    "  /* USER CODE END 2 */\n",
    "```"
   ]
  },
  {
   "cell_type": "markdown",
   "metadata": {},
   "source": [
    "Copy the following code and paste between `/* USER CODE BEGIN WHILE */` and `/* USER CODE END WHILE */`:\n",
    "\n",
    "```c\n",
    "  /* USER CODE BEGIN WHILE */\n",
    "  while (1)\n",
    "  {\n",
    "\tHAL_GPIO_WritePin(TRIG_GPIO_Port, TRIG_Pin, GPIO_PIN_SET);  // pull the TRIG pin HIGH\n",
    "\t__HAL_TIM_SET_COUNTER(&htim1, 0);\n",
    "\twhile (__HAL_TIM_GET_COUNTER (&htim1) < 10);  // wait for 10 us\n",
    "\tHAL_GPIO_WritePin(TRIG_GPIO_Port, TRIG_Pin, GPIO_PIN_RESET);  // pull the TRIG pin LOW\n",
    "\n",
    "\tpMillis = HAL_GetTick();\n",
    "\t// wait 50ms for the echo pin to go high. If timeout, exit the while loop.\n",
    "\twhile (!(HAL_GPIO_ReadPin (ECHO_GPIO_Port, ECHO_Pin)) && pMillis + 50 >  HAL_GetTick());\n",
    "\tValue1 = __HAL_TIM_GET_COUNTER (&htim1);\n",
    "\n",
    "\tpMillis = HAL_GetTick();\n",
    "\t// wait 50ms for the echo pin to go low. If timeout, exit the while loop.\n",
    "\twhile ((HAL_GPIO_ReadPin (ECHO_GPIO_Port, ECHO_Pin)) && pMillis + 50 > HAL_GetTick());\n",
    "\tValue2 = __HAL_TIM_GET_COUNTER (&htim1);\n",
    "\n",
    "\tDistance = (Value2-Value1)* 0.0343/2;\n",
    "\tHAL_Delay(50);\n",
    "    /* USER CODE END WHILE */\n",
    "```"
   ]
  },
  {
   "cell_type": "markdown",
   "metadata": {},
   "source": [
    "## 5. Debugging\n",
    "\n",
    "Now, click on `Debug` and make sure the `Enable live expressions` option in the Debugger configuration is selected, which lets us see the changes of the distance.\n",
    "\n",
    "<img src=\"Figures\\Debugger_configuration_ultrasound.png\" alt=\"Debugger configuration\" width=\"700\"/>\n",
    "\n",
    "After entering the debugging mode, add `Distance` under the `Live Expressions` tab.\n",
    "\n",
    "<img src=\"Figures\\Dist_change.png\" alt=\"Live expression\" width=\"1000\"/>\n",
    "\n",
    "Now click `Resume` to run the code, and see the values change when you place an object in front of the module.\n",
    "\n",
    "<img src=\"Figures\\Live_exp_dist.png\" alt=\"Distance change\" width=\"1000\"/>"
   ]
  }
 ],
 "metadata": {
  "language_info": {
   "name": "python"
  }
 },
 "nbformat": 4,
 "nbformat_minor": 2
}
